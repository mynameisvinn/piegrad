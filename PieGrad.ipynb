{
 "cells": [
  {
   "cell_type": "code",
   "execution_count": 1,
   "metadata": {},
   "outputs": [],
   "source": [
    "import ast\n",
    "import astor\n",
    "import inspect"
   ]
  },
  {
   "cell_type": "code",
   "execution_count": null,
   "metadata": {},
   "outputs": [],
   "source": [
    "def down(node):\n",
    "    \"\"\"\n",
    "    using depth first search, add to stack (\"binop_stack\") if node is a \n",
    "    binop. otherwise evaluate leaf nodes by calling evaluate.\n",
    "    \"\"\"\n",
    "    \n",
    "    # scenario 1 - it is a binop, which means it is not a leaf\n",
    "    if isinstance(node, ast.BinOp):\n",
    "        print(\"adding\", node.op, \"to binop stack\")\n",
    "        binop_stack.append(node)\n",
    "        \n",
    "        # a binop always has a left and right child\n",
    "        down(node.left)\n",
    "        down(node.right)\n",
    "        \n",
    "        # once we've explore left and right children, remove binop from stack\n",
    "        binop_stack.pop()  \n",
    "    \n",
    "    # scenario 2 - it is a leaf, so evaluate according to a specific set of rules\n",
    "    else:\n",
    "        evaluate(node)\n",
    "        \n",
    "def evaluate(z):\n",
    "    \"\"\"evaluate a leaf node.\n",
    "    \n",
    "    how a leaf is evaluated depends on its type (eg it is a ast.Name) \n",
    "    and parent's type (eg its parent is ast.Pow).\n",
    "    \"\"\"\n",
    "    print('eval', z)\n",
    "    parent = binop_stack[-1].op\n",
    "    \n",
    "    # scenario 1: node is a Name node\n",
    "    if isinstance(z, ast.Name):\n",
    "        if isinstance(parent, ast.Pow):\n",
    "            exp = binop_stack[-1].right.n\n",
    "            binop_stack[-1].right.n -= 1\n",
    "            data_stack[-1].n = data_stack[-1].n * exp\n",
    "            data_stack.pop()\n",
    "    \n",
    "    # scenario 2: node is a Num\n",
    "    if isinstance(z, ast.Num):\n",
    "        if isinstance(parent, ast.Mult):\n",
    "            print(\"adding\", z.n, \"to data stack\")\n",
    "            data_stack.append(z)\n",
    "        if isinstance(parent, ast.Add):\n",
    "            print(\"stop\")\n",
    "            z.n = 0  # since any constants have zero derivative\n",
    "        if isinstance(parent, ast.Pow):\n",
    "            pass"
   ]
  },
  {
   "cell_type": "code",
   "execution_count": 2,
   "metadata": {},
   "outputs": [],
   "source": [
    "# convert string source code to ast\n",
    "tree = ast.parse(\"def f(x): return 2 * (x ** 3) + 1\", mode='exec')"
   ]
  },
  {
   "cell_type": "code",
   "execution_count": 3,
   "metadata": {},
   "outputs": [
    {
     "name": "stdout",
     "output_type": "stream",
     "text": [
      "FunctionDef(name='f', args=arguments(args=[arg(arg='x', annotation=None)], vararg=None, kwonlyargs=[], kw_defaults=[], kwarg=None, defaults=[]), body=[Return(value=BinOp(left=BinOp(left=Num(n=2), op=Mult(), right=BinOp(left=Name(id='x', ctx=Load()), op=Pow(), right=Num(n=3))), op=Add(), right=Num(n=1)))], decorator_list=[], returns=None) \n",
      "\n"
     ]
    }
   ],
   "source": [
    "# quick view of the entire ast\n",
    "for statement in tree.body:\n",
    "    print(ast.dump(statement), '\\n')"
   ]
  },
  {
   "cell_type": "code",
   "execution_count": 4,
   "metadata": {},
   "outputs": [],
   "source": [
    "binop_stack = []\n",
    "data_stack = []\n",
    "\n",
    "# start from root\n",
    "root = tree.body[0].body[0].value"
   ]
  },
  {
   "cell_type": "code",
   "execution_count": 5,
   "metadata": {},
   "outputs": [
    {
     "name": "stdout",
     "output_type": "stream",
     "text": [
      "adding <_ast.Add object at 0x106bb8c18> to binop stack\n",
      "adding <_ast.Mult object at 0x106bb8d68> to binop stack\n",
      "eval <_ast.Num object at 0x10939d278>\n",
      "adding 2 to data stack\n",
      "adding <_ast.Pow object at 0x106bbe048> to binop stack\n",
      "eval <_ast.Name object at 0x10939d2e8>\n",
      "eval <_ast.Num object at 0x10939d320>\n",
      "eval <_ast.Num object at 0x10939d358>\n",
      "stop\n"
     ]
    }
   ],
   "source": [
    "down(root)"
   ]
  },
  {
   "cell_type": "code",
   "execution_count": 6,
   "metadata": {},
   "outputs": [
    {
     "name": "stdout",
     "output_type": "stream",
     "text": [
      "def f(x):\n",
      "    return 6 * x ** 2 + 0\n",
      "\n"
     ]
    }
   ],
   "source": [
    "curr = tree.body[0]  \n",
    "print(astor.to_source(curr)) \n",
    "\n",
    "source = astor.to_source(curr)"
   ]
  },
  {
   "cell_type": "code",
   "execution_count": 7,
   "metadata": {},
   "outputs": [],
   "source": [
    "# https://stackoverflow.com/questions/48759838/how-to-create-a-function-object-from-an-ast-functiondef-node\n",
    "code = compile(tree, 'hello.py', 'exec')\n",
    "namespace = {}\n",
    "exec(code, namespace)  # put function code object into namespace dictionary"
   ]
  },
  {
   "cell_type": "code",
   "execution_count": 8,
   "metadata": {},
   "outputs": [
    {
     "data": {
      "text/plain": [
       "6"
      ]
     },
     "execution_count": 8,
     "metadata": {},
     "output_type": "execute_result"
    }
   ],
   "source": [
    "# function f is now bound to something else\n",
    "namespace[\"f\"](1)"
   ]
  },
  {
   "cell_type": "code",
   "execution_count": null,
   "metadata": {},
   "outputs": [],
   "source": []
  }
 ],
 "metadata": {
  "kernelspec": {
   "display_name": "Python 3",
   "language": "python",
   "name": "python3"
  },
  "language_info": {
   "codemirror_mode": {
    "name": "ipython",
    "version": 3
   },
   "file_extension": ".py",
   "mimetype": "text/x-python",
   "name": "python",
   "nbconvert_exporter": "python",
   "pygments_lexer": "ipython3",
   "version": "3.7.3"
  }
 },
 "nbformat": 4,
 "nbformat_minor": 2
}
