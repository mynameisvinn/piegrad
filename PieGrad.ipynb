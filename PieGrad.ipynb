{
 "cells": [
  {
   "cell_type": "code",
   "execution_count": 1,
   "metadata": {},
   "outputs": [],
   "source": [
    "import ast\n",
    "import astor\n",
    "import inspect"
   ]
  },
  {
   "cell_type": "code",
   "execution_count": 2,
   "metadata": {},
   "outputs": [],
   "source": [
    "# convert string source code to ast\n",
    "tree = ast.parse(\"def f(x): return 2 * (x ** 3) + 1\", mode='exec')"
   ]
  },
  {
   "cell_type": "code",
   "execution_count": 3,
   "metadata": {},
   "outputs": [
    {
     "name": "stdout",
     "output_type": "stream",
     "text": [
      "FunctionDef(name='f', args=arguments(args=[arg(arg='x', annotation=None)], vararg=None, kwonlyargs=[], kw_defaults=[], kwarg=None, defaults=[]), body=[Return(value=BinOp(left=BinOp(left=Num(n=2), op=Mult(), right=BinOp(left=Name(id='x', ctx=Load()), op=Pow(), right=Num(n=3))), op=Add(), right=Num(n=1)))], decorator_list=[], returns=None) \n",
      "\n"
     ]
    }
   ],
   "source": [
    "# quick view of the entire ast\n",
    "for statement in tree.body:\n",
    "    print(ast.dump(statement), '\\n')"
   ]
  },
  {
   "cell_type": "code",
   "execution_count": 18,
   "metadata": {},
   "outputs": [],
   "source": [
    "binop_stack = []\n",
    "data_stack = []\n",
    "\n",
    "# start from root\n",
    "root = tree.body[0].body[0].value\n",
    "\n",
    "def down(z):\n",
    "    \"\"\"\n",
    "    using depth first search, add to stack if node is a binop otherwise\n",
    "    evaluate leaf nodes. \n",
    "    \n",
    "    all leaf nodes are evaluated, all non leaf nodes are binops to be \n",
    "    explored.\n",
    "    \"\"\"\n",
    "    if isinstance(z, ast.BinOp):\n",
    "        print(\"adding\", z.op, \"to binop stack\")\n",
    "        binop_stack.append(z)\n",
    "        \n",
    "        # a binop will always have a left and right child\n",
    "        down(z.left)\n",
    "        down(z.right)\n",
    "        \n",
    "        # once we've explore both left and right children of binop, we can remove it from stack\n",
    "        binop_stack.pop()  \n",
    "    else:\n",
    "        evaluate(z)\n",
    "        \n",
    "def evaluate(z):\n",
    "    \"\"\"evaluate a leaf node.\n",
    "    \n",
    "    how a leaf is evaluated depends on its type (eg it is a ast.Name) \n",
    "    and parent's type (eg its parent is ast.Pow).\n",
    "    \"\"\"\n",
    "    print('eval', z)\n",
    "    parent = binop_stack[-1].op\n",
    "    \n",
    "    # scenario 1: node is a Name node\n",
    "    if isinstance(z, ast.Name):\n",
    "        if isinstance(parent, ast.Pow):\n",
    "            exp = binop_stack[-1].right.n\n",
    "            binop_stack[-1].right.n -= 1\n",
    "            data_stack[-1].n = data_stack[-1].n * exp\n",
    "            data_stack.pop()\n",
    "    \n",
    "    # scenario 2: node is a Num\n",
    "    if isinstance(z, ast.Num):\n",
    "        if isinstance(parent, ast.Mult):\n",
    "            print(\"adding\", z.n, \"to data stack\")\n",
    "            data_stack.append(z)\n",
    "        if isinstance(parent, ast.Add):\n",
    "            print(\"stop\")\n",
    "            z.n = 0  # since any constants have zero derivative\n",
    "        if isinstance(parent, ast.Pow):\n",
    "            pass"
   ]
  },
  {
   "cell_type": "code",
   "execution_count": 14,
   "metadata": {},
   "outputs": [
    {
     "name": "stdout",
     "output_type": "stream",
     "text": [
      "adding <_ast.Add object at 0x1044d8be0> to binop stack\n",
      "adding <_ast.Mult object at 0x1044d8d30> to binop stack\n",
      "eval <_ast.Num object at 0x106d58ac8>\n",
      "adding 2 to data stack\n",
      "adding <_ast.Pow object at 0x1044d8fd0> to binop stack\n",
      "eval <_ast.Name object at 0x106d58b38>\n",
      "eval <_ast.Num object at 0x106d58b70>\n",
      "eval <_ast.Num object at 0x106d58ba8>\n",
      "stop\n"
     ]
    }
   ],
   "source": [
    "down(root)"
   ]
  },
  {
   "cell_type": "code",
   "execution_count": 15,
   "metadata": {},
   "outputs": [
    {
     "name": "stdout",
     "output_type": "stream",
     "text": [
      "def f(x):\n",
      "    return 6 * x ** 2 + 0\n",
      "\n"
     ]
    }
   ],
   "source": [
    "curr = tree.body[0]  \n",
    "print(astor.to_source(curr)) \n",
    "\n",
    "source = astor.to_source(curr)"
   ]
  },
  {
   "cell_type": "code",
   "execution_count": 16,
   "metadata": {},
   "outputs": [],
   "source": [
    "# https://stackoverflow.com/questions/48759838/how-to-create-a-function-object-from-an-ast-functiondef-node\n",
    "code = compile(tree, 'hello.py', 'exec')\n",
    "namespace = {}\n",
    "exec(code, namespace)  # put function code object into namespace dictionary"
   ]
  },
  {
   "cell_type": "code",
   "execution_count": 17,
   "metadata": {},
   "outputs": [
    {
     "data": {
      "text/plain": [
       "6"
      ]
     },
     "execution_count": 17,
     "metadata": {},
     "output_type": "execute_result"
    }
   ],
   "source": [
    "namespace[\"f\"](1)"
   ]
  },
  {
   "cell_type": "code",
   "execution_count": null,
   "metadata": {},
   "outputs": [],
   "source": []
  }
 ],
 "metadata": {
  "kernelspec": {
   "display_name": "Python 3",
   "language": "python",
   "name": "python3"
  },
  "language_info": {
   "codemirror_mode": {
    "name": "ipython",
    "version": 3
   },
   "file_extension": ".py",
   "mimetype": "text/x-python",
   "name": "python",
   "nbconvert_exporter": "python",
   "pygments_lexer": "ipython3",
   "version": "3.7.3"
  }
 },
 "nbformat": 4,
 "nbformat_minor": 2
}
