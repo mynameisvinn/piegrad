{
 "cells": [
  {
   "cell_type": "code",
   "execution_count": 203,
   "metadata": {},
   "outputs": [],
   "source": [
    "import ast\n",
    "import astor\n",
    "import inspect"
   ]
  },
  {
   "cell_type": "code",
   "execution_count": 204,
   "metadata": {},
   "outputs": [],
   "source": [
    "class Node(object):\n",
    "    def __init__(self, obj):\n",
    "        self.obj = obj"
   ]
  },
  {
   "cell_type": "code",
   "execution_count": 233,
   "metadata": {},
   "outputs": [],
   "source": [
    "# convert string source code to ast\n",
    "tree = ast.parse(\"def f(x): return 2 * (x ** 2) + 1\", mode='exec')"
   ]
  },
  {
   "cell_type": "code",
   "execution_count": 234,
   "metadata": {},
   "outputs": [
    {
     "name": "stdout",
     "output_type": "stream",
     "text": [
      "FunctionDef(name='f', args=arguments(args=[arg(arg='x', annotation=None)], vararg=None, kwonlyargs=[], kw_defaults=[], kwarg=None, defaults=[]), body=[Return(value=BinOp(left=BinOp(left=Num(n=2), op=Mult(), right=BinOp(left=Name(id='x', ctx=Load()), op=Pow(), right=Num(n=2))), op=Add(), right=Num(n=1)))], decorator_list=[], returns=None) \n",
      "\n"
     ]
    }
   ],
   "source": [
    "# quick view of the entire ast\n",
    "for statement in tree.body:\n",
    "    print(ast.dump(statement), '\\n')"
   ]
  },
  {
   "cell_type": "code",
   "execution_count": 235,
   "metadata": {},
   "outputs": [],
   "source": [
    "binop_stack = []\n",
    "data_stack = []\n",
    "\n",
    "# start from root\n",
    "root = tree.body[0].body[0].value\n",
    "binop_stack.append(root)\n",
    "curr = root.left"
   ]
  },
  {
   "cell_type": "code",
   "execution_count": 236,
   "metadata": {},
   "outputs": [
    {
     "data": {
      "text/plain": [
       "'Add()'"
      ]
     },
     "execution_count": 236,
     "metadata": {},
     "output_type": "execute_result"
    }
   ],
   "source": [
    "ast.dump(root.op)"
   ]
  },
  {
   "cell_type": "code",
   "execution_count": 237,
   "metadata": {},
   "outputs": [
    {
     "name": "stdout",
     "output_type": "stream",
     "text": [
      "evaluating node:  BinOp(left=Num(n=2), op=Mult(), right=BinOp(left=Name(id='x', ctx=Load()), op=Pow(), right=Num(n=2)))  \n",
      "\n",
      ">> adding binop to binop stack <_ast.Mult object at 0x10859ce10> \n",
      "\n",
      "--------------------\n",
      "data stack []\n",
      "binop stack [<_ast.BinOp object at 0x10b2b8ac8>, <_ast.BinOp object at 0x10b2b8be0>]\n",
      "--------------------\n",
      "next node to evaluate <_ast.Num object at 0x10b2b8438>\n",
      "========================================\n",
      "evaluating node:  Num(n=2)  \n",
      "\n",
      ">> adding to data stack 2 \n",
      "\n",
      "--------------------\n",
      "data stack [<_ast.Num object at 0x10b2b8438>]\n",
      "binop stack [<_ast.BinOp object at 0x10b2b8ac8>]\n",
      "--------------------\n",
      "next node to evaluate <_ast.BinOp object at 0x10b2b86d8>\n",
      "========================================\n",
      "evaluating node:  BinOp(left=Name(id='x', ctx=Load()), op=Pow(), right=Num(n=2))  \n",
      "\n",
      ">> adding binop to binop stack <_ast.Pow object at 0x1085a20f0> \n",
      "\n",
      "--------------------\n",
      "data stack [<_ast.Num object at 0x10b2b8438>]\n",
      "binop stack [<_ast.BinOp object at 0x10b2b8ac8>, <_ast.BinOp object at 0x10b2b86d8>]\n",
      "--------------------\n",
      "next node to evaluate <_ast.Name object at 0x10b2b82e8>\n",
      "========================================\n",
      "evaluating node:  Name(id='x', ctx=Load())  \n",
      "\n",
      "--------------------\n",
      "data stack []\n",
      "binop stack [<_ast.BinOp object at 0x10b2b8ac8>]\n",
      "--------------------\n",
      "next node to evaluate <_ast.Num object at 0x10b2b82b0>\n",
      "========================================\n",
      "evaluating node:  Num(n=1)  \n",
      "\n",
      ">> adding to data stack 1 \n",
      "\n",
      "--------------------\n",
      "data stack [<_ast.Num object at 0x10b2b82b0>]\n",
      "binop stack []\n",
      "--------------------\n",
      "next node to evaluate <_ast.Num object at 0x10b2b82b0>\n",
      "========================================\n"
     ]
    }
   ],
   "source": [
    "while len(binop_stack) > 0:\n",
    "\n",
    "    print(\"evaluating node: \", ast.dump(curr), \" \\n\")\n",
    "\n",
    "    # scenario 1: if it is a name node\n",
    "    if isinstance(curr, ast.Name):\n",
    "\n",
    "        # if its preceding op is a pow\n",
    "        if isinstance(binop_stack[-1].op, ast.Pow):\n",
    "\n",
    "            # then we loop at the op so we can grab its right child, which is the exponent\n",
    "            curr = binop_stack.pop()\n",
    "            exponent = curr.right.n\n",
    "\n",
    "            # decrement exponent by 1\n",
    "            curr.right.n = curr.right.n - 1\n",
    "\n",
    "            # multiply coefficient by exponent\n",
    "            curr = data_stack.pop() \n",
    "            curr.n = curr.n * exponent\n",
    "\n",
    "            # new curr\n",
    "            curr = binop_stack[-1].right\n",
    "\n",
    "    # scenario 3: if it is a binop    \n",
    "    elif isinstance(curr, ast.BinOp):\n",
    "        print(\">> adding binop to binop stack\", curr.op, \"\\n\")\n",
    "        binop_stack.append(curr)\n",
    "        curr = curr.left\n",
    "\n",
    "    else:\n",
    "        print(\">> adding to data stack\", curr.n, \"\\n\")\n",
    "        data_stack.append(curr)\n",
    "        curr = binop_stack.pop().right\n",
    "\n",
    "\n",
    "    print(\"-\" * 20)\n",
    "    print(\"data stack\", data_stack)\n",
    "    print(\"binop stack\", binop_stack)\n",
    "    print(\"-\" * 20)\n",
    "    print(\"next node to evaluate\", curr)\n",
    "    print(\"=\" * 40)"
   ]
  },
  {
   "cell_type": "code",
   "execution_count": null,
   "metadata": {},
   "outputs": [],
   "source": []
  },
  {
   "cell_type": "code",
   "execution_count": 214,
   "metadata": {},
   "outputs": [
    {
     "name": "stdout",
     "output_type": "stream",
     "text": [
      "def f(x):\n",
      "    return 4 * x ** 1 + 1\n",
      "\n"
     ]
    }
   ],
   "source": [
    "curr = tree.body[0]  \n",
    "print(astor.to_source(curr)) \n",
    "\n",
    "source = astor.to_source(curr)"
   ]
  },
  {
   "cell_type": "code",
   "execution_count": 215,
   "metadata": {},
   "outputs": [],
   "source": [
    "# https://stackoverflow.com/questions/48759838/how-to-create-a-function-object-from-an-ast-functiondef-node\n",
    "code = compile(tree, 'hello.py', 'exec')\n",
    "namespace = {}\n",
    "exec(code, namespace)"
   ]
  },
  {
   "cell_type": "code",
   "execution_count": 216,
   "metadata": {},
   "outputs": [
    {
     "data": {
      "text/plain": [
       "5"
      ]
     },
     "execution_count": 216,
     "metadata": {},
     "output_type": "execute_result"
    }
   ],
   "source": [
    "namespace[\"f\"](1)"
   ]
  },
  {
   "cell_type": "code",
   "execution_count": null,
   "metadata": {},
   "outputs": [],
   "source": []
  }
 ],
 "metadata": {
  "kernelspec": {
   "display_name": "Python 3",
   "language": "python",
   "name": "python3"
  },
  "language_info": {
   "codemirror_mode": {
    "name": "ipython",
    "version": 3
   },
   "file_extension": ".py",
   "mimetype": "text/x-python",
   "name": "python",
   "nbconvert_exporter": "python",
   "pygments_lexer": "ipython3",
   "version": "3.7.3"
  }
 },
 "nbformat": 4,
 "nbformat_minor": 2
}
