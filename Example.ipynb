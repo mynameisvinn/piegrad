{
 "cells": [
  {
   "cell_type": "code",
   "execution_count": 27,
   "metadata": {},
   "outputs": [],
   "source": [
    "from PieGrad import grad"
   ]
  },
  {
   "cell_type": "code",
   "execution_count": 28,
   "metadata": {},
   "outputs": [],
   "source": [
    "def f(x): \n",
    "    return 2 * (x ** 3) + 1"
   ]
  },
  {
   "cell_type": "code",
   "execution_count": 30,
   "metadata": {},
   "outputs": [
    {
     "name": "stdout",
     "output_type": "stream",
     "text": [
      "adding <_ast.Add object at 0x103347be0> to binop stack\n",
      "adding <_ast.Mult object at 0x103347d30> to binop stack\n",
      "eval <_ast.Num object at 0x105eec630>\n",
      "adding 2 to data stack\n",
      "adding <_ast.Pow object at 0x103347fd0> to binop stack\n",
      "eval <_ast.Name object at 0x105eec6a0>\n",
      "eval <_ast.Num object at 0x105eec6d8>\n",
      "eval <_ast.Num object at 0x105eec710>\n",
      "stop\n",
      "def f(x):\n",
      "    return 6 * x ** 2 + 0\n",
      "\n"
     ]
    }
   ],
   "source": [
    "f_prime = grad(f)"
   ]
  },
  {
   "cell_type": "code",
   "execution_count": 31,
   "metadata": {},
   "outputs": [
    {
     "data": {
      "text/plain": [
       "24"
      ]
     },
     "execution_count": 31,
     "metadata": {},
     "output_type": "execute_result"
    }
   ],
   "source": [
    "f_prime(2)  # prints 24"
   ]
  },
  {
   "cell_type": "code",
   "execution_count": null,
   "metadata": {},
   "outputs": [],
   "source": []
  }
 ],
 "metadata": {
  "kernelspec": {
   "display_name": "Python 3",
   "language": "python",
   "name": "python3"
  },
  "language_info": {
   "codemirror_mode": {
    "name": "ipython",
    "version": 3
   },
   "file_extension": ".py",
   "mimetype": "text/x-python",
   "name": "python",
   "nbconvert_exporter": "python",
   "pygments_lexer": "ipython3",
   "version": "3.7.3"
  }
 },
 "nbformat": 4,
 "nbformat_minor": 2
}
